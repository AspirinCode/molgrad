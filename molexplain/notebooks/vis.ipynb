{
 "cells": [
  {
   "cell_type": "code",
   "execution_count": 1,
   "metadata": {},
   "outputs": [],
   "source": [
    "import os\n",
    "os.chdir('../..')"
   ]
  },
  {
   "cell_type": "code",
   "execution_count": 2,
   "metadata": {},
   "outputs": [
    {
     "name": "stderr",
     "output_type": "stream",
     "text": [
      "RDKit WARNING: [12:21:15] Enabling RDKit 2019.09.3 jupyter extensions\n",
      "Using backend: pytorch\n"
     ]
    }
   ],
   "source": [
    "import numpy as np\n",
    "import pandas as pd\n",
    "import torch\n",
    "\n",
    "from rdkit.Chem import MolFromSmiles, MolFromInchi, MolToInchi\n",
    "from rdkit.Chem.Draw import IPythonConsole\n",
    "from IPython.display import SVG\n",
    "\n",
    "from molexplain.utils import MODELS_PATH, PROCESSED_DATA_PATH, DEVICE\n",
    "from molexplain.vis import molecule_importance"
   ]
  },
  {
   "cell_type": "code",
   "execution_count": 3,
   "metadata": {},
   "outputs": [],
   "source": [
    "from molexplain.net import MPNNPredictor\n",
    "\n",
    "model = MPNNPredictor(node_in_feats=46,\n",
    "                      edge_in_feats=10,\n",
    "                      global_feats=4,\n",
    "                      n_tasks=1).to(DEVICE) \n",
    "model.load_state_dict(torch.load(os.path.join(MODELS_PATH, \"CYP3A4_noHs.pt\"), map_location=DEVICE))\n",
    "\n",
    "df = pd.read_csv('../cyp/CYP3A4.csv', header=0, sep=';')\n",
    "smiles = df['SMILES'].to_numpy()\n",
    "\n",
    "inchis = []\n",
    "invalid_idx = []\n",
    "\n",
    "for idx, sm in enumerate(smiles):\n",
    "    try:\n",
    "        mol = MolFromSmiles(sm)\n",
    "        inchi = MolToInchi(mol)\n",
    "        mol_back = MolFromInchi(inchi)\n",
    "        if mol_back is not None:\n",
    "            inchis.append(inchi)\n",
    "        else:\n",
    "            invalid_idx.append(idx)\n",
    "    except:\n",
    "        invalid_idx.append(idx)\n",
    "        continue\n",
    "\n",
    "\n",
    "inchis = np.array(inchis)\n",
    "values = np.array([1.0 if l == 'Active' else 0.0 for l in df['Class']])[:, np.newaxis]\n",
    "value_idx = np.setdiff1d(np.arange(len(values)), np.array(invalid_idx))\n",
    "values = values[value_idx, :]"
   ]
  },
  {
   "cell_type": "code",
   "execution_count": 4,
   "metadata": {},
   "outputs": [
    {
     "name": "stdout",
     "output_type": "stream",
     "text": [
      "InChI=1S/C28H33ClNOP/c1-3-11-23-21-28(23,20-4-2)27(22-16-18-24(29)19-17-22)30-32(31,25-12-7-5-8-13-25)26-14-9-6-10-15-26/h5-10,12-19,23,27H,3-4,11,20-21H2,1-2H3,(H,30,31)/t23-,27?,28-/m1/s1\n",
      "[1.]\n"
     ]
    }
   ],
   "source": [
    "idx = 10\n",
    "example_inchi, example_label = inchis[idx], values[idx]\n",
    "\n",
    "print(example_inchi)\n",
    "print(example_label)"
   ]
  },
  {
   "cell_type": "code",
   "execution_count": null,
   "metadata": {},
   "outputs": [
    {
     "name": "stderr",
     "output_type": "stream",
     "text": [
      " 40%|████      | 3671/9120 [2:39:58<4:00:26,  2.65s/it]"
     ]
    }
   ],
   "source": [
    "from tqdm import tqdm\n",
    "\n",
    "IMG_DIR = 'imgs_cyp_noHs'\n",
    "os.makedirs(IMG_DIR, exist_ok=True)\n",
    "\n",
    "\n",
    "for idx in tqdm(range(len(inchis))):\n",
    "    mol = MolFromInchi(inchis[idx])\n",
    "    svg, _, _, _, global_importance = molecule_importance(mol,\n",
    "                                                          model,\n",
    "                                                          task=0,\n",
    "                                                          vis_factor=5,\n",
    "                                                          addHs=False)\n",
    "\n",
    "    with open(os.path.join(IMG_DIR, f'{idx}.svg'), 'w+') as handle:\n",
    "        handle.write(svg)"
   ]
  },
  {
   "cell_type": "code",
   "execution_count": null,
   "metadata": {},
   "outputs": [],
   "source": [
    "np.save('/home/jose/cyp/inchis.npy', arr=inchis)\n",
    "np.save('/home/jose/cyp/values.npy', arr=values)"
   ]
  }
 ],
 "metadata": {
  "kernelspec": {
   "display_name": "Python 3",
   "language": "python",
   "name": "python3"
  },
  "language_info": {
   "codemirror_mode": {
    "name": "ipython",
    "version": 3
   },
   "file_extension": ".py",
   "mimetype": "text/x-python",
   "name": "python",
   "nbconvert_exporter": "python",
   "pygments_lexer": "ipython3",
   "version": "3.7.6"
  }
 },
 "nbformat": 4,
 "nbformat_minor": 4
}
