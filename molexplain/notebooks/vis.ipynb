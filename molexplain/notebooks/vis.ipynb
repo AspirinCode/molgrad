{
 "cells": [
  {
   "cell_type": "code",
   "execution_count": 1,
   "metadata": {},
   "outputs": [],
   "source": [
    "import os\n",
    "os.chdir('../..')"
   ]
  },
  {
   "cell_type": "code",
   "execution_count": 2,
   "metadata": {},
   "outputs": [
    {
     "output_type": "stream",
     "name": "stderr",
     "text": "RDKit WARNING: [11:40:05] Enabling RDKit 2019.09.3 jupyter extensions\n"
    }
   ],
   "source": [
    "import numpy as np\n",
    "import torch\n",
    "\n",
    "from rdkit.Chem.Draw import IPythonConsole\n",
    "from IPython.display import SVG\n",
    "\n",
    "from molexplain.utils import MODELS_PATH, PROCESSED_DATA_PATH"
   ]
  },
  {
   "cell_type": "code",
   "execution_count": 3,
   "metadata": {},
   "outputs": [],
   "source": [
    "model = torch.load(os.path.join(MODELS_PATH, \"AZ_ChEMBL.pt\"))\n",
    "inchis = np.load(os.path.join(PROCESSED_DATA_PATH, \"inchis.npy\"))"
   ]
  },
  {
   "cell_type": "code",
   "execution_count": 4,
   "metadata": {},
   "outputs": [],
   "source": [
    "from rdkit.Chem import MolFromInchi"
   ]
  },
  {
   "cell_type": "code",
   "execution_count": 5,
   "metadata": {},
   "outputs": [
    {
     "output_type": "stream",
     "name": "stdout",
     "text": "InChI=1S/C17H16N4O4/c22-10-4-9-20-15-8-2-1-7-14(15)18-17(20)19-16(23)12-5-3-6-13(11-12)21(24)25/h1-3,5-8,11,22H,4,9-10H2,(H,18,19,23)\n"
    }
   ],
   "source": [
    "example_inchi = inchis[396]\n",
    "print(example_inchi)"
   ]
  },
  {
   "cell_type": "code",
   "execution_count": 6,
   "metadata": {},
   "outputs": [],
   "source": [
    "mol = MolFromInchi(example_inchi)"
   ]
  },
  {
   "cell_type": "code",
   "execution_count": 7,
   "metadata": {},
   "outputs": [
    {
     "output_type": "execute_result",
     "data": {
      "text/plain": "<IPython.core.display.SVG object>",
      "image/svg+xml": "<svg baseProfile=\"full\" height=\"200px\" version=\"1.1\" viewBox=\"0 0 400 200\" width=\"400px\" xml:space=\"preserve\" xmlns=\"http://www.w3.org/2000/svg\" xmlns:rdkit=\"http://www.rdkit.org/xml\" xmlns:xlink=\"http://www.w3.org/1999/xlink\">\n<!-- END OF HEADER -->\n<rect height=\"200\" style=\"opacity:1.0;fill:#FFFFFF;stroke:none\" width=\"400\" x=\"0\" y=\"0\"> </rect>\n<path d=\"M 184.994,49.2492 L 151.59,56.7356\" style=\"fill:none;fill-rule:evenodd;stroke:#FF0000;stroke-width:14px;stroke-linecap:butt;stroke-linejoin:miter;stroke-opacity:1\"/>\n<path d=\"M 265.143,175.034 L 247.701,145.578\" style=\"fill:none;fill-rule:evenodd;stroke:#FF0000;stroke-width:14px;stroke-linecap:butt;stroke-linejoin:miter;stroke-opacity:1\"/>\n<path d=\"M 316.162,144.822 L 298.719,115.367\" style=\"fill:none;fill-rule:evenodd;stroke:#FF0000;stroke-width:14px;stroke-linecap:butt;stroke-linejoin:miter;stroke-opacity:1\"/>\n<path d=\"M 264.489,115.745 L 247.701,145.578\" style=\"fill:none;fill-rule:evenodd;stroke:#FF0000;stroke-width:14px;stroke-linecap:butt;stroke-linejoin:miter;stroke-opacity:1\"/>\n<path d=\"M 264.489,115.745 L 298.719,115.367\" style=\"fill:none;fill-rule:evenodd;stroke:#FF0000;stroke-width:14px;stroke-linecap:butt;stroke-linejoin:miter;stroke-opacity:1\"/>\n<path d=\"M 161.798,116.878 L 196.028,116.5\" style=\"fill:none;fill-rule:evenodd;stroke:#FF0000;stroke-width:14px;stroke-linecap:butt;stroke-linejoin:miter;stroke-opacity:1\"/>\n<ellipse cx=\"50.0228\" cy=\"135.229\" rx=\"12.6985\" ry=\"12.6985\" style=\"fill:#00FF00;fill-rule:evenodd;stroke:#00FF00;stroke-width:1px;stroke-linecap:butt;stroke-linejoin:miter;stroke-opacity:1\"/>\n<ellipse cx=\"49.6449\" cy=\"100.999\" rx=\"1.71231\" ry=\"1.71231\" style=\"fill:#FF0000;fill-rule:evenodd;stroke:#FF0000;stroke-width:1px;stroke-linecap:butt;stroke-linejoin:miter;stroke-opacity:1\"/>\n<ellipse cx=\"299.374\" cy=\"174.656\" rx=\"16.2534\" ry=\"16.2534\" style=\"fill:#00FF00;fill-rule:evenodd;stroke:#00FF00;stroke-width:1px;stroke-linecap:butt;stroke-linejoin:miter;stroke-opacity:1\"/>\n<ellipse cx=\"184.994\" cy=\"49.2492\" rx=\"1.27266\" ry=\"1.27266\" style=\"fill:#FF0000;fill-rule:evenodd;stroke:#FF0000;stroke-width:1px;stroke-linecap:butt;stroke-linejoin:miter;stroke-opacity:1\"/>\n<ellipse cx=\"265.143\" cy=\"175.034\" rx=\"1.05431\" ry=\"1.05431\" style=\"fill:#FF0000;fill-rule:evenodd;stroke:#FF0000;stroke-width:1px;stroke-linecap:butt;stroke-linejoin:miter;stroke-opacity:1\"/>\n<ellipse cx=\"316.162\" cy=\"144.822\" rx=\"0.556115\" ry=\"0.556115\" style=\"fill:#FF0000;fill-rule:evenodd;stroke:#FF0000;stroke-width:1px;stroke-linecap:butt;stroke-linejoin:miter;stroke-opacity:1\"/>\n<ellipse cx=\"79.8561\" cy=\"152.017\" rx=\"4.93095\" ry=\"4.93095\" style=\"fill:#FF0000;fill-rule:evenodd;stroke:#FF0000;stroke-width:1px;stroke-linecap:butt;stroke-linejoin:miter;stroke-opacity:1\"/>\n<ellipse cx=\"79.1004\" cy=\"83.5566\" rx=\"1.19477\" ry=\"1.19477\" style=\"fill:#00FF00;fill-rule:evenodd;stroke:#00FF00;stroke-width:1px;stroke-linecap:butt;stroke-linejoin:miter;stroke-opacity:1\"/>\n<ellipse cx=\"151.59\" cy=\"56.7356\" rx=\"1.61998\" ry=\"1.61998\" style=\"fill:#FF0000;fill-rule:evenodd;stroke:#FF0000;stroke-width:1px;stroke-linecap:butt;stroke-linejoin:miter;stroke-opacity:1\"/>\n<ellipse cx=\"195.213\" cy=\"16.5774\" rx=\"0.039163\" ry=\"0.039163\" style=\"fill:#00FF00;fill-rule:evenodd;stroke:#00FF00;stroke-width:1px;stroke-linecap:butt;stroke-linejoin:miter;stroke-opacity:1\"/>\n<ellipse cx=\"264.489\" cy=\"115.745\" rx=\"1.6226\" ry=\"1.6226\" style=\"fill:#FF0000;fill-rule:evenodd;stroke:#FF0000;stroke-width:1px;stroke-linecap:butt;stroke-linejoin:miter;stroke-opacity:1\"/>\n<ellipse cx=\"247.701\" cy=\"145.578\" rx=\"0.605908\" ry=\"0.605908\" style=\"fill:#FF0000;fill-rule:evenodd;stroke:#FF0000;stroke-width:1px;stroke-linecap:butt;stroke-linejoin:miter;stroke-opacity:1\"/>\n<ellipse cx=\"298.719\" cy=\"115.367\" rx=\"7.88003\" ry=\"7.88003\" style=\"fill:#FF0000;fill-rule:evenodd;stroke:#FF0000;stroke-width:1px;stroke-linecap:butt;stroke-linejoin:miter;stroke-opacity:1\"/>\n<ellipse cx=\"109.312\" cy=\"134.575\" rx=\"1.65344\" ry=\"1.65344\" style=\"fill:#00FF00;fill-rule:evenodd;stroke:#00FF00;stroke-width:1px;stroke-linecap:butt;stroke-linejoin:miter;stroke-opacity:1\"/>\n<ellipse cx=\"108.934\" cy=\"100.345\" rx=\"0.643238\" ry=\"0.643238\" style=\"fill:#FF0000;fill-rule:evenodd;stroke:#FF0000;stroke-width:1px;stroke-linecap:butt;stroke-linejoin:miter;stroke-opacity:1\"/>\n<ellipse cx=\"213.471\" cy=\"145.956\" rx=\"1.40845\" ry=\"1.40845\" style=\"fill:#00FF00;fill-rule:evenodd;stroke:#00FF00;stroke-width:1px;stroke-linecap:butt;stroke-linejoin:miter;stroke-opacity:1\"/>\n<ellipse cx=\"161.798\" cy=\"116.878\" rx=\"0.926326\" ry=\"0.926326\" style=\"fill:#FF0000;fill-rule:evenodd;stroke:#FF0000;stroke-width:1px;stroke-linecap:butt;stroke-linejoin:miter;stroke-opacity:1\"/>\n<ellipse cx=\"196.028\" cy=\"116.5\" rx=\"0.00351061\" ry=\"0.00351061\" style=\"fill:#FF0000;fill-rule:evenodd;stroke:#FF0000;stroke-width:1px;stroke-linecap:butt;stroke-linejoin:miter;stroke-opacity:1\"/>\n<ellipse cx=\"141.372\" cy=\"89.4074\" rx=\"0.0238653\" ry=\"0.0238653\" style=\"fill:#00FF00;fill-rule:evenodd;stroke:#00FF00;stroke-width:1px;stroke-linecap:butt;stroke-linejoin:miter;stroke-opacity:1\"/>\n<ellipse cx=\"315.507\" cy=\"85.5336\" rx=\"5.38361\" ry=\"5.38361\" style=\"fill:#00FF00;fill-rule:evenodd;stroke:#00FF00;stroke-width:1px;stroke-linecap:butt;stroke-linejoin:miter;stroke-opacity:1\"/>\n<path class=\"bond-0\" d=\"M 50.0228,135.229 L 49.6449,100.999\" style=\"fill:none;fill-rule:evenodd;stroke:#000000;stroke-width:2px;stroke-linecap:butt;stroke-linejoin:miter;stroke-opacity:1\"/>\n<path class=\"bond-0\" d=\"M 56.8122,130.019 L 56.5477,106.058\" style=\"fill:none;fill-rule:evenodd;stroke:#000000;stroke-width:2px;stroke-linecap:butt;stroke-linejoin:miter;stroke-opacity:1;stroke-dasharray:6,6\"/>\n<path class=\"bond-1\" d=\"M 50.0228,135.229 L 79.8561,152.017\" style=\"fill:none;fill-rule:evenodd;stroke:#000000;stroke-width:2px;stroke-linecap:butt;stroke-linejoin:miter;stroke-opacity:1\"/>\n<path class=\"bond-1\" d=\"M 57.8553,131.781 L 78.7387,143.532\" style=\"fill:none;fill-rule:evenodd;stroke:#000000;stroke-width:2px;stroke-linecap:butt;stroke-linejoin:miter;stroke-opacity:1;stroke-dasharray:6,6\"/>\n<path class=\"bond-2\" d=\"M 49.6449,100.999 L 79.1004,83.5566\" style=\"fill:none;fill-rule:evenodd;stroke:#000000;stroke-width:2px;stroke-linecap:butt;stroke-linejoin:miter;stroke-opacity:1\"/>\n<path class=\"bond-2\" d=\"M 57.5517,104.274 L 78.1705,92.064\" style=\"fill:none;fill-rule:evenodd;stroke:#000000;stroke-width:2px;stroke-linecap:butt;stroke-linejoin:miter;stroke-opacity:1;stroke-dasharray:6,6\"/>\n<path class=\"bond-3\" d=\"M 299.374,174.656 L 265.143,175.034\" style=\"fill:none;fill-rule:evenodd;stroke:#000000;stroke-width:2px;stroke-linecap:butt;stroke-linejoin:miter;stroke-opacity:1\"/>\n<path class=\"bond-3\" d=\"M 294.164,167.866 L 270.202,168.131\" style=\"fill:none;fill-rule:evenodd;stroke:#000000;stroke-width:2px;stroke-linecap:butt;stroke-linejoin:miter;stroke-opacity:1;stroke-dasharray:6,6\"/>\n<path class=\"bond-4\" d=\"M 299.374,174.656 L 316.162,144.822\" style=\"fill:none;fill-rule:evenodd;stroke:#000000;stroke-width:2px;stroke-linecap:butt;stroke-linejoin:miter;stroke-opacity:1\"/>\n<path class=\"bond-4\" d=\"M 295.925,166.823 L 307.677,145.94\" style=\"fill:none;fill-rule:evenodd;stroke:#000000;stroke-width:2px;stroke-linecap:butt;stroke-linejoin:miter;stroke-opacity:1;stroke-dasharray:6,6\"/>\n<path class=\"bond-5\" d=\"M 184.994,49.2492 L 151.59,56.7356\" style=\"fill:none;fill-rule:evenodd;stroke:#000000;stroke-width:2px;stroke-linecap:butt;stroke-linejoin:miter;stroke-opacity:1\"/>\n<path class=\"bond-6\" d=\"M 184.994,49.2492 L 195.213,16.5774\" style=\"fill:none;fill-rule:evenodd;stroke:#000000;stroke-width:2px;stroke-linecap:butt;stroke-linejoin:miter;stroke-opacity:1\"/>\n<path class=\"bond-7\" d=\"M 265.143,175.034 L 247.701,145.578\" style=\"fill:none;fill-rule:evenodd;stroke:#000000;stroke-width:2px;stroke-linecap:butt;stroke-linejoin:miter;stroke-opacity:1\"/>\n<path class=\"bond-7\" d=\"M 268.418,167.127 L 256.208,146.508\" style=\"fill:none;fill-rule:evenodd;stroke:#000000;stroke-width:2px;stroke-linecap:butt;stroke-linejoin:miter;stroke-opacity:1;stroke-dasharray:6,6\"/>\n<path class=\"bond-8\" d=\"M 316.162,144.822 L 298.719,115.367\" style=\"fill:none;fill-rule:evenodd;stroke:#000000;stroke-width:2px;stroke-linecap:butt;stroke-linejoin:miter;stroke-opacity:1\"/>\n<path class=\"bond-8\" d=\"M 307.654,143.893 L 295.444,123.274\" style=\"fill:none;fill-rule:evenodd;stroke:#000000;stroke-width:2px;stroke-linecap:butt;stroke-linejoin:miter;stroke-opacity:1;stroke-dasharray:6,6\"/>\n<path class=\"bond-9\" d=\"M 79.8561,152.017 L 109.312,134.575\" style=\"fill:none;fill-rule:evenodd;stroke:#000000;stroke-width:2px;stroke-linecap:butt;stroke-linejoin:miter;stroke-opacity:1\"/>\n<path class=\"bond-9\" d=\"M 80.7859,143.51 L 101.405,131.3\" style=\"fill:none;fill-rule:evenodd;stroke:#000000;stroke-width:2px;stroke-linecap:butt;stroke-linejoin:miter;stroke-opacity:1;stroke-dasharray:6,6\"/>\n<path class=\"bond-10\" d=\"M 79.1004,83.5566 L 108.934,100.345\" style=\"fill:none;fill-rule:evenodd;stroke:#000000;stroke-width:2px;stroke-linecap:butt;stroke-linejoin:miter;stroke-opacity:1\"/>\n<path class=\"bond-10\" d=\"M 80.2178,92.0414 L 101.101,103.793\" style=\"fill:none;fill-rule:evenodd;stroke:#000000;stroke-width:2px;stroke-linecap:butt;stroke-linejoin:miter;stroke-opacity:1;stroke-dasharray:6,6\"/>\n<path class=\"bond-11\" d=\"M 151.59,56.7356 L 147.373,70.2188\" style=\"fill:none;fill-rule:evenodd;stroke:#000000;stroke-width:2px;stroke-linecap:butt;stroke-linejoin:miter;stroke-opacity:1\"/>\n<path class=\"bond-11\" d=\"M 147.373,70.2188 L 143.156,83.702\" style=\"fill:none;fill-rule:evenodd;stroke:#0000FF;stroke-width:2px;stroke-linecap:butt;stroke-linejoin:miter;stroke-opacity:1\"/>\n<path class=\"bond-12\" d=\"M 195.213,16.5774 L 206.778,13.9854\" style=\"fill:none;fill-rule:evenodd;stroke:#000000;stroke-width:2px;stroke-linecap:butt;stroke-linejoin:miter;stroke-opacity:1\"/>\n<path class=\"bond-12\" d=\"M 206.778,13.9854 L 218.343,11.3935\" style=\"fill:none;fill-rule:evenodd;stroke:#FF0000;stroke-width:2px;stroke-linecap:butt;stroke-linejoin:miter;stroke-opacity:1\"/>\n<path class=\"bond-13\" d=\"M 264.489,115.745 L 247.701,145.578\" style=\"fill:none;fill-rule:evenodd;stroke:#000000;stroke-width:2px;stroke-linecap:butt;stroke-linejoin:miter;stroke-opacity:1\"/>\n<path class=\"bond-13\" d=\"M 267.937,123.577 L 256.186,144.461\" style=\"fill:none;fill-rule:evenodd;stroke:#000000;stroke-width:2px;stroke-linecap:butt;stroke-linejoin:miter;stroke-opacity:1;stroke-dasharray:6,6\"/>\n<path class=\"bond-14\" d=\"M 264.489,115.745 L 298.719,115.367\" style=\"fill:none;fill-rule:evenodd;stroke:#000000;stroke-width:2px;stroke-linecap:butt;stroke-linejoin:miter;stroke-opacity:1\"/>\n<path class=\"bond-14\" d=\"M 269.699,122.534 L 293.66,122.27\" style=\"fill:none;fill-rule:evenodd;stroke:#000000;stroke-width:2px;stroke-linecap:butt;stroke-linejoin:miter;stroke-opacity:1;stroke-dasharray:6,6\"/>\n<path class=\"bond-15\" d=\"M 247.701,145.578 L 213.471,145.956\" style=\"fill:none;fill-rule:evenodd;stroke:#000000;stroke-width:2px;stroke-linecap:butt;stroke-linejoin:miter;stroke-opacity:1\"/>\n<path class=\"bond-16\" d=\"M 298.719,115.367 L 305.347,103.588\" style=\"fill:none;fill-rule:evenodd;stroke:#000000;stroke-width:2px;stroke-linecap:butt;stroke-linejoin:miter;stroke-opacity:1\"/>\n<path class=\"bond-16\" d=\"M 305.347,103.588 L 311.976,91.8096\" style=\"fill:none;fill-rule:evenodd;stroke:#0000FF;stroke-width:2px;stroke-linecap:butt;stroke-linejoin:miter;stroke-opacity:1\"/>\n<path class=\"bond-17\" d=\"M 109.312,134.575 L 108.934,100.345\" style=\"fill:none;fill-rule:evenodd;stroke:#000000;stroke-width:2px;stroke-linecap:butt;stroke-linejoin:miter;stroke-opacity:1\"/>\n<path class=\"bond-17\" d=\"M 102.409,129.516 L 102.144,105.555\" style=\"fill:none;fill-rule:evenodd;stroke:#000000;stroke-width:2px;stroke-linecap:butt;stroke-linejoin:miter;stroke-opacity:1;stroke-dasharray:6,6\"/>\n<path class=\"bond-18\" d=\"M 109.312,134.575 L 123.175,138.911\" style=\"fill:none;fill-rule:evenodd;stroke:#000000;stroke-width:2px;stroke-linecap:butt;stroke-linejoin:miter;stroke-opacity:1\"/>\n<path class=\"bond-18\" d=\"M 123.175,138.911 L 137.038,143.247\" style=\"fill:none;fill-rule:evenodd;stroke:#0000FF;stroke-width:2px;stroke-linecap:butt;stroke-linejoin:miter;stroke-opacity:1\"/>\n<path class=\"bond-18\" d=\"M 115.514,129.341 L 125.219,132.376\" style=\"fill:none;fill-rule:evenodd;stroke:#000000;stroke-width:2px;stroke-linecap:butt;stroke-linejoin:miter;stroke-opacity:1;stroke-dasharray:6,6\"/>\n<path class=\"bond-18\" d=\"M 125.219,132.376 L 134.923,135.412\" style=\"fill:none;fill-rule:evenodd;stroke:#0000FF;stroke-width:2px;stroke-linecap:butt;stroke-linejoin:miter;stroke-opacity:1;stroke-dasharray:6,6\"/>\n<path class=\"bond-19\" d=\"M 108.934,100.345 L 122.68,95.7097\" style=\"fill:none;fill-rule:evenodd;stroke:#000000;stroke-width:2px;stroke-linecap:butt;stroke-linejoin:miter;stroke-opacity:1\"/>\n<path class=\"bond-19\" d=\"M 122.68,95.7097 L 136.427,91.0748\" style=\"fill:none;fill-rule:evenodd;stroke:#0000FF;stroke-width:2px;stroke-linecap:butt;stroke-linejoin:miter;stroke-opacity:1\"/>\n<path class=\"bond-19\" d=\"M 115.245,105.442 L 124.868,102.197\" style=\"fill:none;fill-rule:evenodd;stroke:#000000;stroke-width:2px;stroke-linecap:butt;stroke-linejoin:miter;stroke-opacity:1;stroke-dasharray:6,6\"/>\n<path class=\"bond-19\" d=\"M 124.868,102.197 L 134.49,98.9529\" style=\"fill:none;fill-rule:evenodd;stroke:#0000FF;stroke-width:2px;stroke-linecap:butt;stroke-linejoin:miter;stroke-opacity:1;stroke-dasharray:6,6\"/>\n<path class=\"bond-20\" d=\"M 213.471,145.956 L 206.439,134.081\" style=\"fill:none;fill-rule:evenodd;stroke:#000000;stroke-width:2px;stroke-linecap:butt;stroke-linejoin:miter;stroke-opacity:1\"/>\n<path class=\"bond-20\" d=\"M 206.439,134.081 L 199.407,122.206\" style=\"fill:none;fill-rule:evenodd;stroke:#0000FF;stroke-width:2px;stroke-linecap:butt;stroke-linejoin:miter;stroke-opacity:1\"/>\n<path class=\"bond-20\" d=\"M 217.252,138.905 L 212.33,130.592\" style=\"fill:none;fill-rule:evenodd;stroke:#000000;stroke-width:2px;stroke-linecap:butt;stroke-linejoin:miter;stroke-opacity:1\"/>\n<path class=\"bond-20\" d=\"M 212.33,130.592 L 207.407,122.28\" style=\"fill:none;fill-rule:evenodd;stroke:#0000FF;stroke-width:2px;stroke-linecap:butt;stroke-linejoin:miter;stroke-opacity:1\"/>\n<path class=\"bond-21\" d=\"M 213.471,145.956 L 206.682,158.02\" style=\"fill:none;fill-rule:evenodd;stroke:#000000;stroke-width:2px;stroke-linecap:butt;stroke-linejoin:miter;stroke-opacity:1\"/>\n<path class=\"bond-21\" d=\"M 206.682,158.02 L 199.893,170.084\" style=\"fill:none;fill-rule:evenodd;stroke:#FF0000;stroke-width:2px;stroke-linecap:butt;stroke-linejoin:miter;stroke-opacity:1\"/>\n<path class=\"bond-22\" d=\"M 161.798,116.878 L 153.915,127.983\" style=\"fill:none;fill-rule:evenodd;stroke:#000000;stroke-width:2px;stroke-linecap:butt;stroke-linejoin:miter;stroke-opacity:1\"/>\n<path class=\"bond-22\" d=\"M 153.915,127.983 L 146.033,139.088\" style=\"fill:none;fill-rule:evenodd;stroke:#0000FF;stroke-width:2px;stroke-linecap:butt;stroke-linejoin:miter;stroke-opacity:1\"/>\n<path class=\"bond-22\" d=\"M 153.85,116.247 L 148.332,124.02\" style=\"fill:none;fill-rule:evenodd;stroke:#000000;stroke-width:2px;stroke-linecap:butt;stroke-linejoin:miter;stroke-opacity:1;stroke-dasharray:6,6\"/>\n<path class=\"bond-22\" d=\"M 148.332,124.02 L 142.815,131.794\" style=\"fill:none;fill-rule:evenodd;stroke:#0000FF;stroke-width:2px;stroke-linecap:butt;stroke-linejoin:miter;stroke-opacity:1;stroke-dasharray:6,6\"/>\n<path class=\"bond-23\" d=\"M 161.798,116.878 L 176.44,116.717\" style=\"fill:none;fill-rule:evenodd;stroke:#000000;stroke-width:2px;stroke-linecap:butt;stroke-linejoin:miter;stroke-opacity:1\"/>\n<path class=\"bond-23\" d=\"M 176.44,116.717 L 191.083,116.555\" style=\"fill:none;fill-rule:evenodd;stroke:#0000FF;stroke-width:2px;stroke-linecap:butt;stroke-linejoin:miter;stroke-opacity:1\"/>\n<path class=\"bond-24\" d=\"M 161.798,116.878 L 153.706,105.996\" style=\"fill:none;fill-rule:evenodd;stroke:#000000;stroke-width:2px;stroke-linecap:butt;stroke-linejoin:miter;stroke-opacity:1\"/>\n<path class=\"bond-24\" d=\"M 153.706,105.996 L 145.614,95.1128\" style=\"fill:none;fill-rule:evenodd;stroke:#0000FF;stroke-width:2px;stroke-linecap:butt;stroke-linejoin:miter;stroke-opacity:1\"/>\n<path class=\"bond-24\" d=\"M 153.876,117.699 L 148.212,110.081\" style=\"fill:none;fill-rule:evenodd;stroke:#000000;stroke-width:2px;stroke-linecap:butt;stroke-linejoin:miter;stroke-opacity:1;stroke-dasharray:6,6\"/>\n<path class=\"bond-24\" d=\"M 148.212,110.081 L 142.548,102.463\" style=\"fill:none;fill-rule:evenodd;stroke:#0000FF;stroke-width:2px;stroke-linecap:butt;stroke-linejoin:miter;stroke-opacity:1;stroke-dasharray:6,6\"/>\n<path class=\"bond-25\" d=\"M 322.452,85.457 L 332.86,85.3421\" style=\"fill:none;fill-rule:evenodd;stroke:#0000FF;stroke-width:2px;stroke-linecap:butt;stroke-linejoin:miter;stroke-opacity:1\"/>\n<path class=\"bond-25\" d=\"M 332.86,85.3421 L 343.268,85.2272\" style=\"fill:none;fill-rule:evenodd;stroke:#FF0000;stroke-width:2px;stroke-linecap:butt;stroke-linejoin:miter;stroke-opacity:1\"/>\n<path class=\"bond-26\" d=\"M 314.736,77.5135 L 309.563,68.7764\" style=\"fill:none;fill-rule:evenodd;stroke:#0000FF;stroke-width:2px;stroke-linecap:butt;stroke-linejoin:miter;stroke-opacity:1\"/>\n<path class=\"bond-26\" d=\"M 309.563,68.7764 L 304.389,60.0394\" style=\"fill:none;fill-rule:evenodd;stroke:#FF0000;stroke-width:2px;stroke-linecap:butt;stroke-linejoin:miter;stroke-opacity:1\"/>\n<path class=\"bond-26\" d=\"M 308.845,81.0019 L 303.672,72.2649\" style=\"fill:none;fill-rule:evenodd;stroke:#0000FF;stroke-width:2px;stroke-linecap:butt;stroke-linejoin:miter;stroke-opacity:1\"/>\n<path class=\"bond-26\" d=\"M 303.672,72.2649 L 298.498,63.5278\" style=\"fill:none;fill-rule:evenodd;stroke:#FF0000;stroke-width:2px;stroke-linecap:butt;stroke-linejoin:miter;stroke-opacity:1\"/>\n<text style=\"font-size:11px;font-style:normal;font-weight:normal;fill-opacity:1;stroke:none;font-family:sans-serif;text-anchor:start;fill:#0000FF\" x=\"137.038\" y=\"150.499\"><tspan>N</tspan></text>\n<text style=\"font-size:11px;font-style:normal;font-weight:normal;fill-opacity:1;stroke:none;font-family:sans-serif;text-anchor:start;fill:#0000FF\" x=\"191.083\" y=\"122.206\"><tspan>N</tspan></text>\n<text style=\"font-size:11px;font-style:normal;font-weight:normal;fill-opacity:1;stroke:none;font-family:sans-serif;text-anchor:start;fill:#0000FF\" x=\"136.427\" y=\"95.1128\"><tspan>N</tspan></text>\n<text style=\"font-size:11px;font-style:normal;font-weight:normal;fill-opacity:1;stroke:none;font-family:sans-serif;text-anchor:start;fill:#0000FF\" x=\"308.562\" y=\"91.8096\"><tspan>N</tspan><tspan style=\"baseline-shift:super;font-size:8.25px;\">+</tspan><tspan/></text>\n<text style=\"font-size:11px;font-style:normal;font-weight:normal;fill-opacity:1;stroke:none;font-family:sans-serif;text-anchor:start;fill:#FF0000\" x=\"218.343\" y=\"14.7963\"><tspan>OH</tspan></text>\n<text style=\"font-size:11px;font-style:normal;font-weight:normal;fill-opacity:1;stroke:none;font-family:sans-serif;text-anchor:start;fill:#FF0000\" x=\"186.409\" y=\"181.495\"><tspan>OH</tspan></text>\n<text style=\"font-size:11px;font-style:normal;font-weight:normal;fill-opacity:1;stroke:none;font-family:sans-serif;text-anchor:start;fill:#FF0000\" x=\"343.268\" y=\"91.4318\"><tspan>O</tspan><tspan style=\"baseline-shift:super;font-size:8.25px;\">-</tspan><tspan/></text>\n<text style=\"font-size:11px;font-style:normal;font-weight:normal;fill-opacity:1;stroke:none;font-family:sans-serif;text-anchor:start;fill:#FF0000\" x=\"292.736\" y=\"61.7836\"><tspan>O</tspan></text>\n</svg>"
     },
     "metadata": {},
     "execution_count": 7
    }
   ],
   "source": [
    "from molexplain.vis import molecule_importance\n",
    "molecule_importance(mol, model, task=0, vis_factor=5)"
   ]
  },
  {
   "cell_type": "code",
   "execution_count": null,
   "metadata": {},
   "outputs": [],
   "source": []
  }
 ],
 "metadata": {
  "kernelspec": {
   "display_name": "Python 3.7.6 64-bit ('molexplain': conda)",
   "language": "python",
   "name": "python37664bitmolexplaincondad971c71c73194cec8cb77b79fb8a5458"
  },
  "language_info": {
   "codemirror_mode": {
    "name": "ipython",
    "version": 3
   },
   "file_extension": ".py",
   "mimetype": "text/x-python",
   "name": "python",
   "nbconvert_exporter": "python",
   "pygments_lexer": "ipython3",
   "version": "3.7.6-final"
  }
 },
 "nbformat": 4,
 "nbformat_minor": 4
}