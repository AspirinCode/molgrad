{
 "cells": [
  {
   "cell_type": "code",
   "execution_count": 1,
   "metadata": {},
   "outputs": [],
   "source": [
    "import os\n",
    "os.chdir('../..')"
   ]
  },
  {
   "cell_type": "code",
   "execution_count": 50,
   "metadata": {},
   "outputs": [],
   "source": [
    "import numpy as np\n",
    "import pandas as pd\n",
    "import torch\n",
    "\n",
    "from rdkit.Chem.Draw import IPythonConsole\n",
    "from IPython.display import SVG\n",
    "\n",
    "from molexplain.utils import MODELS_PATH, PROCESSED_DATA_PATH, DEVICE\n",
    "from rdkit.Chem import MolFromInchi\n",
    "from rdkit.Chem import MolFromSmiles\n",
    "from molexplain.vis import molecule_importance"
   ]
  },
  {
   "cell_type": "code",
   "execution_count": 56,
   "metadata": {},
   "outputs": [],
   "source": [
    "from molexplain.net import MPNNPredictor\n",
    "\n",
    "model = MPNNPredictor(node_in_feats=45, edge_in_feats=10, global_feats=4, n_tasks=1).to(DEVICE) \n",
    "model.load_state_dict(torch.load(os.path.join(MODELS_PATH, \"compara_Hs.pt\"), map_location=DEVICE))\n",
    "\n",
    "df = pd.read_csv('../compara/CoMPARA_training_set.csv', header=0, sep=';')\n",
    "\n",
    "inchis = df['InChI'].to_numpy()\n",
    "values = np.array([1.0 if l == 'active' else 0.0 for l in df['Class label']])[:, np.newaxis]\n"
   ]
  },
  {
   "cell_type": "code",
   "execution_count": 57,
   "metadata": {},
   "outputs": [
    {
     "name": "stdout",
     "output_type": "stream",
     "text": [
      "InChI=1S/C11H17Cl2NOS/c1-2-3-4-5-6-7-8-14-11(15)9(12)10(13)16-14/h2-8H2,1H3\n",
      "[1.]\n"
     ]
    }
   ],
   "source": [
    "idx = 10\n",
    "example_inchi, example_label = inchis[idx], values[idx]\n",
    "\n",
    "print(example_inchi)\n",
    "print(example_label)"
   ]
  },
  {
   "cell_type": "code",
   "execution_count": null,
   "metadata": {},
   "outputs": [],
   "source": []
  },
  {
   "cell_type": "code",
   "execution_count": 58,
   "metadata": {},
   "outputs": [
    {
     "name": "stderr",
     "output_type": "stream",
     "text": [
      "100%|██████████| 1687/1687 [1:09:36<00:00,  2.48s/it]\n"
     ]
    }
   ],
   "source": [
    "from tqdm import tqdm\n",
    "\n",
    "IMG_DIR = 'imgs_compara_Hs'\n",
    "os.makedirs(IMG_DIR, exist_ok=True)\n",
    "\n",
    "\n",
    "for idx in tqdm(range(len(inchis))):\n",
    "    mol = MolFromInchi(inchis[idx])\n",
    "    svg, _, _, _, global_importance = molecule_importance(mol,\n",
    "                                                          model,\n",
    "                                                          task=0,\n",
    "                                                          vis_factor=5,\n",
    "                                                          addHs=True)\n",
    "\n",
    "    with open(os.path.join(IMG_DIR, f'{idx}.svg'), 'w+') as handle:\n",
    "        handle.write(svg)"
   ]
  },
  {
   "cell_type": "code",
   "execution_count": 8,
   "metadata": {},
   "outputs": [
    {
     "data": {
      "text/plain": [
       "array([ 2.5958628e-03,  2.2861816e-03,  2.2861816e-03,  2.2861816e-03,\n",
       "        4.2654625e-03, -1.7121429e-02,  7.3087309e-04,  6.9965385e-03,\n",
       "       -7.9760021e-03, -1.8478606e-02, -5.3659482e-03, -2.6179270e-03,\n",
       "        5.2552405e-03,  1.8928634e-03,  1.8928634e-03, -4.0114978e-03,\n",
       "       -4.0114978e-03, -4.0114978e-03, -4.0114978e-03, -4.0114978e-03,\n",
       "       -4.0114978e-03, -8.9284609e-04,  6.5601945e-02,  1.8523896e-02,\n",
       "        2.2895115e-04, -5.1157768e-03,  7.5483265e-05, -3.0082164e-03,\n",
       "       -4.1572136e-04, -4.1572136e-04, -4.1572136e-04, -4.1649918e-04,\n",
       "       -4.1649918e-04, -4.1649918e-04, -4.1649918e-04, -4.1649918e-04,\n",
       "       -4.1649918e-04, -4.1649918e-04, -4.1649918e-04, -4.1649918e-04,\n",
       "       -4.3638801e-04, -4.3638801e-04, -5.3490256e-04, -5.3490256e-04,\n",
       "       -1.3454454e-03,  6.3219538e-04, -2.2272934e-04, -5.7739601e-04],\n",
       "      dtype=float32)"
      ]
     },
     "execution_count": 8,
     "metadata": {},
     "output_type": "execute_result"
    }
   ],
   "source": [
    "atom_importance"
   ]
  },
  {
   "cell_type": "code",
   "execution_count": 9,
   "metadata": {},
   "outputs": [
    {
     "data": {
      "text/plain": [
       "array([-0.08852828, -0.05987171, -0.05987171, -0.05987171, -0.0883676 ,\n",
       "        0.14850228, -0.18360895,  0.0230939 , -0.07916986,  0.19245438,\n",
       "       -0.08698023,  0.23998387,  0.02742542,  0.08616737, -0.01708367,\n",
       "       -0.04668588,  0.22429323, -0.01395256, -0.02973547, -0.02973547,\n",
       "       -0.02275086, -0.02647839, -0.02647839, -0.02647839, -0.02647839,\n",
       "       -0.02647839, -0.02647839,  0.05450417, -0.03322159, -0.03322159,\n",
       "       -0.03322159, -0.03321834, -0.03321834, -0.03321834, -0.03321834,\n",
       "       -0.03321834, -0.03321834, -0.03321834, -0.03321834, -0.03321834,\n",
       "       -0.03330429, -0.03330429, -0.04407413, -0.04407413,  0.00565556,\n",
       "        0.02743879,  0.00471724, -0.01357325], dtype=float32)"
      ]
     },
     "execution_count": 9,
     "metadata": {},
     "output_type": "execute_result"
    }
   ],
   "source": [
    "edge_importance"
   ]
  },
  {
   "cell_type": "code",
   "execution_count": 10,
   "metadata": {},
   "outputs": [
    {
     "data": {
      "text/plain": [
       "array([ 0.11039182, -0.02195664,  0.69527835, -0.23680171], dtype=float32)"
      ]
     },
     "execution_count": 10,
     "metadata": {},
     "output_type": "execute_result"
    }
   ],
   "source": [
    "global_importance"
   ]
  },
  {
   "cell_type": "code",
   "execution_count": 11,
   "metadata": {},
   "outputs": [],
   "source": [
    "symmetric_sm = 'C1=CC=C(C=C1)C1=CC=C(C=C1)C1=CC=C(C=C1)C1=CC=CC=C1'\n",
    "symmetric_mol = MolFromSmiles(symmetric_sm)"
   ]
  },
  {
   "cell_type": "code",
   "execution_count": 13,
   "metadata": {},
   "outputs": [],
   "source": [
    "svg, atom_importance, edge_importance, global_importance = molecule_importance(symmetric_mol,\n",
    "                                                                               model,\n",
    "                                                                               n_steps=50,\n",
    "                                                                               task=2,\n",
    "                                                                               vis_factor=1)"
   ]
  },
  {
   "cell_type": "code",
   "execution_count": 14,
   "metadata": {},
   "outputs": [
    {
     "data": {
      "image/svg+xml": [
       "<svg baseProfile=\"full\" height=\"200px\" version=\"1.1\" viewBox=\"0 0 400 200\" width=\"400px\" xml:space=\"preserve\" xmlns=\"http://www.w3.org/2000/svg\" xmlns:rdkit=\"http://www.rdkit.org/xml\" xmlns:xlink=\"http://www.w3.org/1999/xlink\">\n",
       "<!-- END OF HEADER -->\n",
       "<rect height=\"200\" style=\"opacity:1.0;fill:#FFFFFF;stroke:none\" width=\"400\" x=\"0\" y=\"0\"> </rect>\n",
       "<path d=\"M 347.299,100.004 L 374.081,100.004\" style=\"fill:none;fill-rule:evenodd;stroke:#00FF00;stroke-width:11px;stroke-linecap:butt;stroke-linejoin:miter;stroke-opacity:1\"/>\n",
       "<path d=\"M 307.126,123.198 L 293.736,100.004\" style=\"fill:none;fill-rule:evenodd;stroke:#00FF00;stroke-width:11px;stroke-linecap:butt;stroke-linejoin:miter;stroke-opacity:1\"/>\n",
       "<path d=\"M 307.126,123.198 L 293.736,146.391\" style=\"fill:none;fill-rule:evenodd;stroke:#00FF00;stroke-width:11px;stroke-linecap:butt;stroke-linejoin:miter;stroke-opacity:1\"/>\n",
       "<path d=\"M 293.736,100.004 L 307.126,76.8107\" style=\"fill:none;fill-rule:evenodd;stroke:#00FF00;stroke-width:11px;stroke-linecap:butt;stroke-linejoin:miter;stroke-opacity:1\"/>\n",
       "<path d=\"M 293.736,100.004 L 266.954,100.004\" style=\"fill:none;fill-rule:evenodd;stroke:#00FF00;stroke-width:11px;stroke-linecap:butt;stroke-linejoin:miter;stroke-opacity:1\"/>\n",
       "<path d=\"M 307.126,76.8107 L 293.736,53.6172\" style=\"fill:none;fill-rule:evenodd;stroke:#00FF00;stroke-width:11px;stroke-linecap:butt;stroke-linejoin:miter;stroke-opacity:1\"/>\n",
       "<path d=\"M 266.954,100.004 L 253.563,76.8107\" style=\"fill:none;fill-rule:evenodd;stroke:#00FF00;stroke-width:11px;stroke-linecap:butt;stroke-linejoin:miter;stroke-opacity:1\"/>\n",
       "<path d=\"M 266.954,100.004 L 253.563,123.198\" style=\"fill:none;fill-rule:evenodd;stroke:#00FF00;stroke-width:11px;stroke-linecap:butt;stroke-linejoin:miter;stroke-opacity:1\"/>\n",
       "<path d=\"M 253.563,76.8107 L 266.954,53.6172\" style=\"fill:none;fill-rule:evenodd;stroke:#00FF00;stroke-width:11px;stroke-linecap:butt;stroke-linejoin:miter;stroke-opacity:1\"/>\n",
       "<path d=\"M 213.391,100.004 L 226.782,123.198\" style=\"fill:none;fill-rule:evenodd;stroke:#00FF00;stroke-width:11px;stroke-linecap:butt;stroke-linejoin:miter;stroke-opacity:1\"/>\n",
       "<path d=\"M 213.391,100.004 L 186.609,100.004\" style=\"fill:none;fill-rule:evenodd;stroke:#00FF00;stroke-width:11px;stroke-linecap:butt;stroke-linejoin:miter;stroke-opacity:1\"/>\n",
       "<path d=\"M 226.782,123.198 L 253.563,123.198\" style=\"fill:none;fill-rule:evenodd;stroke:#00FF00;stroke-width:11px;stroke-linecap:butt;stroke-linejoin:miter;stroke-opacity:1\"/>\n",
       "<path d=\"M 226.782,123.198 L 213.391,146.391\" style=\"fill:none;fill-rule:evenodd;stroke:#00FF00;stroke-width:11px;stroke-linecap:butt;stroke-linejoin:miter;stroke-opacity:1\"/>\n",
       "<path d=\"M 253.563,123.198 L 266.954,146.391\" style=\"fill:none;fill-rule:evenodd;stroke:#00FF00;stroke-width:11px;stroke-linecap:butt;stroke-linejoin:miter;stroke-opacity:1\"/>\n",
       "<path d=\"M 186.609,100.004 L 173.218,76.8107\" style=\"fill:none;fill-rule:evenodd;stroke:#00FF00;stroke-width:11px;stroke-linecap:butt;stroke-linejoin:miter;stroke-opacity:1\"/>\n",
       "<path d=\"M 186.609,100.004 L 173.218,123.198\" style=\"fill:none;fill-rule:evenodd;stroke:#00FF00;stroke-width:11px;stroke-linecap:butt;stroke-linejoin:miter;stroke-opacity:1\"/>\n",
       "<path d=\"M 173.218,76.8107 L 186.609,53.6172\" style=\"fill:none;fill-rule:evenodd;stroke:#00FF00;stroke-width:11px;stroke-linecap:butt;stroke-linejoin:miter;stroke-opacity:1\"/>\n",
       "<path d=\"M 133.046,100.004 L 106.264,100.004\" style=\"fill:none;fill-rule:evenodd;stroke:#00FF00;stroke-width:11px;stroke-linecap:butt;stroke-linejoin:miter;stroke-opacity:1\"/>\n",
       "<path d=\"M 173.218,123.198 L 186.609,146.391\" style=\"fill:none;fill-rule:evenodd;stroke:#00FF00;stroke-width:11px;stroke-linecap:butt;stroke-linejoin:miter;stroke-opacity:1\"/>\n",
       "<path d=\"M 106.264,100.004 L 92.8735,76.8107\" style=\"fill:none;fill-rule:evenodd;stroke:#00FF00;stroke-width:11px;stroke-linecap:butt;stroke-linejoin:miter;stroke-opacity:1\"/>\n",
       "<path d=\"M 106.264,100.004 L 92.8735,123.198\" style=\"fill:none;fill-rule:evenodd;stroke:#00FF00;stroke-width:11px;stroke-linecap:butt;stroke-linejoin:miter;stroke-opacity:1\"/>\n",
       "<path d=\"M 92.8735,76.8107 L 106.264,53.6172\" style=\"fill:none;fill-rule:evenodd;stroke:#00FF00;stroke-width:11px;stroke-linecap:butt;stroke-linejoin:miter;stroke-opacity:1\"/>\n",
       "<path d=\"M 52.7011,100.004 L 25.9194,100.004\" style=\"fill:none;fill-rule:evenodd;stroke:#00FF00;stroke-width:11px;stroke-linecap:butt;stroke-linejoin:miter;stroke-opacity:1\"/>\n",
       "<path d=\"M 92.8735,123.198 L 106.264,146.391\" style=\"fill:none;fill-rule:evenodd;stroke:#00FF00;stroke-width:11px;stroke-linecap:butt;stroke-linejoin:miter;stroke-opacity:1\"/>\n",
       "<ellipse cx=\"347.299\" cy=\"100.004\" rx=\"0.0398501\" ry=\"0.0398501\" style=\"fill:#00FF00;fill-rule:evenodd;stroke:#00FF00;stroke-width:1px;stroke-linecap:butt;stroke-linejoin:miter;stroke-opacity:1\"/>\n",
       "<ellipse cx=\"333.908\" cy=\"123.198\" rx=\"0.0470719\" ry=\"0.0470719\" style=\"fill:#FF0000;fill-rule:evenodd;stroke:#FF0000;stroke-width:1px;stroke-linecap:butt;stroke-linejoin:miter;stroke-opacity:1\"/>\n",
       "<ellipse cx=\"307.126\" cy=\"123.198\" rx=\"0.00633145\" ry=\"0.00633145\" style=\"fill:#00FF00;fill-rule:evenodd;stroke:#00FF00;stroke-width:1px;stroke-linecap:butt;stroke-linejoin:miter;stroke-opacity:1\"/>\n",
       "<ellipse cx=\"293.736\" cy=\"100.004\" rx=\"0.076037\" ry=\"0.076037\" style=\"fill:#00FF00;fill-rule:evenodd;stroke:#00FF00;stroke-width:1px;stroke-linecap:butt;stroke-linejoin:miter;stroke-opacity:1\"/>\n",
       "<ellipse cx=\"307.126\" cy=\"76.8107\" rx=\"0.0055423\" ry=\"0.0055423\" style=\"fill:#00FF00;fill-rule:evenodd;stroke:#00FF00;stroke-width:1px;stroke-linecap:butt;stroke-linejoin:miter;stroke-opacity:1\"/>\n",
       "<ellipse cx=\"333.908\" cy=\"76.8107\" rx=\"0.00274706\" ry=\"0.00274706\" style=\"fill:#FF0000;fill-rule:evenodd;stroke:#FF0000;stroke-width:1px;stroke-linecap:butt;stroke-linejoin:miter;stroke-opacity:1\"/>\n",
       "<ellipse cx=\"266.954\" cy=\"100.004\" rx=\"0.0801488\" ry=\"0.0801488\" style=\"fill:#00FF00;fill-rule:evenodd;stroke:#00FF00;stroke-width:1px;stroke-linecap:butt;stroke-linejoin:miter;stroke-opacity:1\"/>\n",
       "<ellipse cx=\"253.563\" cy=\"76.8107\" rx=\"0.364282\" ry=\"0.364282\" style=\"fill:#00FF00;fill-rule:evenodd;stroke:#00FF00;stroke-width:1px;stroke-linecap:butt;stroke-linejoin:miter;stroke-opacity:1\"/>\n",
       "<ellipse cx=\"226.782\" cy=\"76.8107\" rx=\"0.0207087\" ry=\"0.0207087\" style=\"fill:#FF0000;fill-rule:evenodd;stroke:#FF0000;stroke-width:1px;stroke-linecap:butt;stroke-linejoin:miter;stroke-opacity:1\"/>\n",
       "<ellipse cx=\"213.391\" cy=\"100.004\" rx=\"0.0953963\" ry=\"0.0953963\" style=\"fill:#00FF00;fill-rule:evenodd;stroke:#00FF00;stroke-width:1px;stroke-linecap:butt;stroke-linejoin:miter;stroke-opacity:1\"/>\n",
       "<ellipse cx=\"226.782\" cy=\"123.198\" rx=\"0.0105873\" ry=\"0.0105873\" style=\"fill:#00FF00;fill-rule:evenodd;stroke:#00FF00;stroke-width:1px;stroke-linecap:butt;stroke-linejoin:miter;stroke-opacity:1\"/>\n",
       "<ellipse cx=\"253.563\" cy=\"123.198\" rx=\"0.0741881\" ry=\"0.0741881\" style=\"fill:#00FF00;fill-rule:evenodd;stroke:#00FF00;stroke-width:1px;stroke-linecap:butt;stroke-linejoin:miter;stroke-opacity:1\"/>\n",
       "<ellipse cx=\"186.609\" cy=\"100.004\" rx=\"0.0708687\" ry=\"0.0708687\" style=\"fill:#00FF00;fill-rule:evenodd;stroke:#00FF00;stroke-width:1px;stroke-linecap:butt;stroke-linejoin:miter;stroke-opacity:1\"/>\n",
       "<ellipse cx=\"173.218\" cy=\"76.8107\" rx=\"0.367228\" ry=\"0.367228\" style=\"fill:#00FF00;fill-rule:evenodd;stroke:#00FF00;stroke-width:1px;stroke-linecap:butt;stroke-linejoin:miter;stroke-opacity:1\"/>\n",
       "<ellipse cx=\"146.437\" cy=\"76.8107\" rx=\"0.0106964\" ry=\"0.0106964\" style=\"fill:#FF0000;fill-rule:evenodd;stroke:#FF0000;stroke-width:1px;stroke-linecap:butt;stroke-linejoin:miter;stroke-opacity:1\"/>\n",
       "<ellipse cx=\"133.046\" cy=\"100.004\" rx=\"0.0883011\" ry=\"0.0883011\" style=\"fill:#00FF00;fill-rule:evenodd;stroke:#00FF00;stroke-width:1px;stroke-linecap:butt;stroke-linejoin:miter;stroke-opacity:1\"/>\n",
       "<ellipse cx=\"146.437\" cy=\"123.198\" rx=\"0.00482782\" ry=\"0.00482782\" style=\"fill:#FF0000;fill-rule:evenodd;stroke:#FF0000;stroke-width:1px;stroke-linecap:butt;stroke-linejoin:miter;stroke-opacity:1\"/>\n",
       "<ellipse cx=\"173.218\" cy=\"123.198\" rx=\"0.0743546\" ry=\"0.0743546\" style=\"fill:#00FF00;fill-rule:evenodd;stroke:#00FF00;stroke-width:1px;stroke-linecap:butt;stroke-linejoin:miter;stroke-opacity:1\"/>\n",
       "<ellipse cx=\"106.264\" cy=\"100.004\" rx=\"0.054877\" ry=\"0.054877\" style=\"fill:#00FF00;fill-rule:evenodd;stroke:#00FF00;stroke-width:1px;stroke-linecap:butt;stroke-linejoin:miter;stroke-opacity:1\"/>\n",
       "<ellipse cx=\"92.8735\" cy=\"76.8107\" rx=\"0.383763\" ry=\"0.383763\" style=\"fill:#00FF00;fill-rule:evenodd;stroke:#00FF00;stroke-width:1px;stroke-linecap:butt;stroke-linejoin:miter;stroke-opacity:1\"/>\n",
       "<ellipse cx=\"52.7011\" cy=\"100.004\" rx=\"0.0070903\" ry=\"0.0070903\" style=\"fill:#00FF00;fill-rule:evenodd;stroke:#00FF00;stroke-width:1px;stroke-linecap:butt;stroke-linejoin:miter;stroke-opacity:1\"/>\n",
       "<ellipse cx=\"66.0919\" cy=\"123.198\" rx=\"0.00422496\" ry=\"0.00422496\" style=\"fill:#FF0000;fill-rule:evenodd;stroke:#FF0000;stroke-width:1px;stroke-linecap:butt;stroke-linejoin:miter;stroke-opacity:1\"/>\n",
       "<ellipse cx=\"92.8735\" cy=\"123.198\" rx=\"0.0882868\" ry=\"0.0882868\" style=\"fill:#00FF00;fill-rule:evenodd;stroke:#00FF00;stroke-width:1px;stroke-linecap:butt;stroke-linejoin:miter;stroke-opacity:1\"/>\n",
       "<ellipse cx=\"374.081\" cy=\"100.004\" rx=\"0.0306294\" ry=\"0.0306294\" style=\"fill:#00FF00;fill-rule:evenodd;stroke:#00FF00;stroke-width:1px;stroke-linecap:butt;stroke-linejoin:miter;stroke-opacity:1\"/>\n",
       "<ellipse cx=\"347.299\" cy=\"146.391\" rx=\"0.030666\" ry=\"0.030666\" style=\"fill:#00FF00;fill-rule:evenodd;stroke:#00FF00;stroke-width:1px;stroke-linecap:butt;stroke-linejoin:miter;stroke-opacity:1\"/>\n",
       "<ellipse cx=\"293.736\" cy=\"146.391\" rx=\"0.0306556\" ry=\"0.0306556\" style=\"fill:#00FF00;fill-rule:evenodd;stroke:#00FF00;stroke-width:1px;stroke-linecap:butt;stroke-linejoin:miter;stroke-opacity:1\"/>\n",
       "<ellipse cx=\"293.736\" cy=\"53.6172\" rx=\"0.0307324\" ry=\"0.0307324\" style=\"fill:#00FF00;fill-rule:evenodd;stroke:#00FF00;stroke-width:1px;stroke-linecap:butt;stroke-linejoin:miter;stroke-opacity:1\"/>\n",
       "<ellipse cx=\"347.299\" cy=\"53.6172\" rx=\"0.0306783\" ry=\"0.0306783\" style=\"fill:#00FF00;fill-rule:evenodd;stroke:#00FF00;stroke-width:1px;stroke-linecap:butt;stroke-linejoin:miter;stroke-opacity:1\"/>\n",
       "<ellipse cx=\"266.954\" cy=\"53.6172\" rx=\"0.0406212\" ry=\"0.0406212\" style=\"fill:#00FF00;fill-rule:evenodd;stroke:#00FF00;stroke-width:1px;stroke-linecap:butt;stroke-linejoin:miter;stroke-opacity:1\"/>\n",
       "<ellipse cx=\"213.391\" cy=\"53.6172\" rx=\"0.0357821\" ry=\"0.0357821\" style=\"fill:#00FF00;fill-rule:evenodd;stroke:#00FF00;stroke-width:1px;stroke-linecap:butt;stroke-linejoin:miter;stroke-opacity:1\"/>\n",
       "<ellipse cx=\"213.391\" cy=\"146.391\" rx=\"0.0320375\" ry=\"0.0320375\" style=\"fill:#00FF00;fill-rule:evenodd;stroke:#00FF00;stroke-width:1px;stroke-linecap:butt;stroke-linejoin:miter;stroke-opacity:1\"/>\n",
       "<ellipse cx=\"266.954\" cy=\"146.391\" rx=\"0.0306699\" ry=\"0.0306699\" style=\"fill:#00FF00;fill-rule:evenodd;stroke:#00FF00;stroke-width:1px;stroke-linecap:butt;stroke-linejoin:miter;stroke-opacity:1\"/>\n",
       "<ellipse cx=\"186.609\" cy=\"53.6172\" rx=\"0.0406208\" ry=\"0.0406208\" style=\"fill:#00FF00;fill-rule:evenodd;stroke:#00FF00;stroke-width:1px;stroke-linecap:butt;stroke-linejoin:miter;stroke-opacity:1\"/>\n",
       "<ellipse cx=\"133.046\" cy=\"53.6172\" rx=\"0.035782\" ry=\"0.035782\" style=\"fill:#00FF00;fill-rule:evenodd;stroke:#00FF00;stroke-width:1px;stroke-linecap:butt;stroke-linejoin:miter;stroke-opacity:1\"/>\n",
       "<ellipse cx=\"133.046\" cy=\"146.391\" rx=\"0.0320375\" ry=\"0.0320375\" style=\"fill:#00FF00;fill-rule:evenodd;stroke:#00FF00;stroke-width:1px;stroke-linecap:butt;stroke-linejoin:miter;stroke-opacity:1\"/>\n",
       "<ellipse cx=\"186.609\" cy=\"146.391\" rx=\"0.0306699\" ry=\"0.0306699\" style=\"fill:#00FF00;fill-rule:evenodd;stroke:#00FF00;stroke-width:1px;stroke-linecap:butt;stroke-linejoin:miter;stroke-opacity:1\"/>\n",
       "<ellipse cx=\"106.264\" cy=\"53.6172\" rx=\"0.0406228\" ry=\"0.0406228\" style=\"fill:#00FF00;fill-rule:evenodd;stroke:#00FF00;stroke-width:1px;stroke-linecap:butt;stroke-linejoin:miter;stroke-opacity:1\"/>\n",
       "<ellipse cx=\"52.7011\" cy=\"53.6172\" rx=\"0.0357769\" ry=\"0.0357769\" style=\"fill:#00FF00;fill-rule:evenodd;stroke:#00FF00;stroke-width:1px;stroke-linecap:butt;stroke-linejoin:miter;stroke-opacity:1\"/>\n",
       "<ellipse cx=\"25.9194\" cy=\"100.004\" rx=\"0.024265\" ry=\"0.024265\" style=\"fill:#00FF00;fill-rule:evenodd;stroke:#00FF00;stroke-width:1px;stroke-linecap:butt;stroke-linejoin:miter;stroke-opacity:1\"/>\n",
       "<ellipse cx=\"52.7011\" cy=\"146.391\" rx=\"0.0319723\" ry=\"0.0319723\" style=\"fill:#00FF00;fill-rule:evenodd;stroke:#00FF00;stroke-width:1px;stroke-linecap:butt;stroke-linejoin:miter;stroke-opacity:1\"/>\n",
       "<ellipse cx=\"106.264\" cy=\"146.391\" rx=\"0.0306556\" ry=\"0.0306556\" style=\"fill:#00FF00;fill-rule:evenodd;stroke:#00FF00;stroke-width:1px;stroke-linecap:butt;stroke-linejoin:miter;stroke-opacity:1\"/>\n",
       "<path class=\"bond-0\" d=\"M 347.299,100.004 L 333.908,123.198\" style=\"fill:none;fill-rule:evenodd;stroke:#000000;stroke-width:2px;stroke-linecap:butt;stroke-linejoin:miter;stroke-opacity:1\"/>\n",
       "<path class=\"bond-0\" d=\"M 340.652,100.805 L 331.278,117.041\" style=\"fill:none;fill-rule:evenodd;stroke:#000000;stroke-width:2px;stroke-linecap:butt;stroke-linejoin:miter;stroke-opacity:1;stroke-dasharray:6,6\"/>\n",
       "<path class=\"bond-23\" d=\"M 347.299,100.004 L 333.908,76.8107\" style=\"fill:none;fill-rule:evenodd;stroke:#000000;stroke-width:2px;stroke-linecap:butt;stroke-linejoin:miter;stroke-opacity:1\"/>\n",
       "<path class=\"bond-23\" d=\"M 340.652,99.2034 L 331.278,82.9679\" style=\"fill:none;fill-rule:evenodd;stroke:#000000;stroke-width:2px;stroke-linecap:butt;stroke-linejoin:miter;stroke-opacity:1;stroke-dasharray:6,6\"/>\n",
       "<path class=\"bond-27\" d=\"M 347.299,100.004 L 370.212,100.004\" style=\"fill:none;fill-rule:evenodd;stroke:#000000;stroke-width:2px;stroke-linecap:butt;stroke-linejoin:miter;stroke-opacity:1\"/>\n",
       "<path class=\"bond-1\" d=\"M 333.908,123.198 L 307.126,123.198\" style=\"fill:none;fill-rule:evenodd;stroke:#000000;stroke-width:2px;stroke-linecap:butt;stroke-linejoin:miter;stroke-opacity:1\"/>\n",
       "<path class=\"bond-1\" d=\"M 329.891,117.842 L 311.144,117.842\" style=\"fill:none;fill-rule:evenodd;stroke:#000000;stroke-width:2px;stroke-linecap:butt;stroke-linejoin:miter;stroke-opacity:1;stroke-dasharray:6,6\"/>\n",
       "<path class=\"bond-28\" d=\"M 333.908,123.198 L 344.722,141.928\" style=\"fill:none;fill-rule:evenodd;stroke:#000000;stroke-width:2px;stroke-linecap:butt;stroke-linejoin:miter;stroke-opacity:1\"/>\n",
       "<path class=\"bond-2\" d=\"M 307.126,123.198 L 293.736,100.004\" style=\"fill:none;fill-rule:evenodd;stroke:#000000;stroke-width:2px;stroke-linecap:butt;stroke-linejoin:miter;stroke-opacity:1\"/>\n",
       "<path class=\"bond-2\" d=\"M 309.757,117.041 L 300.383,100.805\" style=\"fill:none;fill-rule:evenodd;stroke:#000000;stroke-width:2px;stroke-linecap:butt;stroke-linejoin:miter;stroke-opacity:1;stroke-dasharray:6,6\"/>\n",
       "<path class=\"bond-29\" d=\"M 307.126,123.198 L 296.313,141.928\" style=\"fill:none;fill-rule:evenodd;stroke:#000000;stroke-width:2px;stroke-linecap:butt;stroke-linejoin:miter;stroke-opacity:1\"/>\n",
       "<path class=\"bond-3\" d=\"M 293.736,100.004 L 307.126,76.8107\" style=\"fill:none;fill-rule:evenodd;stroke:#000000;stroke-width:2px;stroke-linecap:butt;stroke-linejoin:miter;stroke-opacity:1\"/>\n",
       "<path class=\"bond-3\" d=\"M 300.383,99.2034 L 309.757,82.9679\" style=\"fill:none;fill-rule:evenodd;stroke:#000000;stroke-width:2px;stroke-linecap:butt;stroke-linejoin:miter;stroke-opacity:1;stroke-dasharray:6,6\"/>\n",
       "<path class=\"bond-5\" d=\"M 293.736,100.004 L 266.954,100.004\" style=\"fill:none;fill-rule:evenodd;stroke:#000000;stroke-width:2px;stroke-linecap:butt;stroke-linejoin:miter;stroke-opacity:1\"/>\n",
       "<path class=\"bond-4\" d=\"M 307.126,76.8107 L 333.908,76.8107\" style=\"fill:none;fill-rule:evenodd;stroke:#000000;stroke-width:2px;stroke-linecap:butt;stroke-linejoin:miter;stroke-opacity:1\"/>\n",
       "<path class=\"bond-4\" d=\"M 311.144,82.1671 L 329.891,82.1671\" style=\"fill:none;fill-rule:evenodd;stroke:#000000;stroke-width:2px;stroke-linecap:butt;stroke-linejoin:miter;stroke-opacity:1;stroke-dasharray:6,6\"/>\n",
       "<path class=\"bond-30\" d=\"M 307.126,76.8107 L 296.313,58.0808\" style=\"fill:none;fill-rule:evenodd;stroke:#000000;stroke-width:2px;stroke-linecap:butt;stroke-linejoin:miter;stroke-opacity:1\"/>\n",
       "<path class=\"bond-31\" d=\"M 333.908,76.8107 L 344.722,58.0808\" style=\"fill:none;fill-rule:evenodd;stroke:#000000;stroke-width:2px;stroke-linecap:butt;stroke-linejoin:miter;stroke-opacity:1\"/>\n",
       "<path class=\"bond-6\" d=\"M 266.954,100.004 L 253.563,76.8107\" style=\"fill:none;fill-rule:evenodd;stroke:#000000;stroke-width:2px;stroke-linecap:butt;stroke-linejoin:miter;stroke-opacity:1\"/>\n",
       "<path class=\"bond-6\" d=\"M 260.307,99.2034 L 250.933,82.9679\" style=\"fill:none;fill-rule:evenodd;stroke:#000000;stroke-width:2px;stroke-linecap:butt;stroke-linejoin:miter;stroke-opacity:1;stroke-dasharray:6,6\"/>\n",
       "<path class=\"bond-24\" d=\"M 266.954,100.004 L 253.563,123.198\" style=\"fill:none;fill-rule:evenodd;stroke:#000000;stroke-width:2px;stroke-linecap:butt;stroke-linejoin:miter;stroke-opacity:1\"/>\n",
       "<path class=\"bond-24\" d=\"M 260.307,100.805 L 250.933,117.041\" style=\"fill:none;fill-rule:evenodd;stroke:#000000;stroke-width:2px;stroke-linecap:butt;stroke-linejoin:miter;stroke-opacity:1;stroke-dasharray:6,6\"/>\n",
       "<path class=\"bond-7\" d=\"M 253.563,76.8107 L 226.782,76.8107\" style=\"fill:none;fill-rule:evenodd;stroke:#000000;stroke-width:2px;stroke-linecap:butt;stroke-linejoin:miter;stroke-opacity:1\"/>\n",
       "<path class=\"bond-7\" d=\"M 249.546,82.1671 L 230.799,82.1671\" style=\"fill:none;fill-rule:evenodd;stroke:#000000;stroke-width:2px;stroke-linecap:butt;stroke-linejoin:miter;stroke-opacity:1;stroke-dasharray:6,6\"/>\n",
       "<path class=\"bond-32\" d=\"M 253.563,76.8107 L 264.377,58.0808\" style=\"fill:none;fill-rule:evenodd;stroke:#000000;stroke-width:2px;stroke-linecap:butt;stroke-linejoin:miter;stroke-opacity:1\"/>\n",
       "<path class=\"bond-8\" d=\"M 226.782,76.8107 L 213.391,100.004\" style=\"fill:none;fill-rule:evenodd;stroke:#000000;stroke-width:2px;stroke-linecap:butt;stroke-linejoin:miter;stroke-opacity:1\"/>\n",
       "<path class=\"bond-8\" d=\"M 229.412,82.9679 L 220.038,99.2034\" style=\"fill:none;fill-rule:evenodd;stroke:#000000;stroke-width:2px;stroke-linecap:butt;stroke-linejoin:miter;stroke-opacity:1;stroke-dasharray:6,6\"/>\n",
       "<path class=\"bond-33\" d=\"M 226.782,76.8107 L 215.968,58.0808\" style=\"fill:none;fill-rule:evenodd;stroke:#000000;stroke-width:2px;stroke-linecap:butt;stroke-linejoin:miter;stroke-opacity:1\"/>\n",
       "<path class=\"bond-9\" d=\"M 213.391,100.004 L 226.782,123.198\" style=\"fill:none;fill-rule:evenodd;stroke:#000000;stroke-width:2px;stroke-linecap:butt;stroke-linejoin:miter;stroke-opacity:1\"/>\n",
       "<path class=\"bond-9\" d=\"M 220.038,100.805 L 229.412,117.041\" style=\"fill:none;fill-rule:evenodd;stroke:#000000;stroke-width:2px;stroke-linecap:butt;stroke-linejoin:miter;stroke-opacity:1;stroke-dasharray:6,6\"/>\n",
       "<path class=\"bond-11\" d=\"M 213.391,100.004 L 186.609,100.004\" style=\"fill:none;fill-rule:evenodd;stroke:#000000;stroke-width:2px;stroke-linecap:butt;stroke-linejoin:miter;stroke-opacity:1\"/>\n",
       "<path class=\"bond-10\" d=\"M 226.782,123.198 L 253.563,123.198\" style=\"fill:none;fill-rule:evenodd;stroke:#000000;stroke-width:2px;stroke-linecap:butt;stroke-linejoin:miter;stroke-opacity:1\"/>\n",
       "<path class=\"bond-10\" d=\"M 230.799,117.842 L 249.546,117.842\" style=\"fill:none;fill-rule:evenodd;stroke:#000000;stroke-width:2px;stroke-linecap:butt;stroke-linejoin:miter;stroke-opacity:1;stroke-dasharray:6,6\"/>\n",
       "<path class=\"bond-34\" d=\"M 226.782,123.198 L 215.968,141.928\" style=\"fill:none;fill-rule:evenodd;stroke:#000000;stroke-width:2px;stroke-linecap:butt;stroke-linejoin:miter;stroke-opacity:1\"/>\n",
       "<path class=\"bond-35\" d=\"M 253.563,123.198 L 264.377,141.928\" style=\"fill:none;fill-rule:evenodd;stroke:#000000;stroke-width:2px;stroke-linecap:butt;stroke-linejoin:miter;stroke-opacity:1\"/>\n",
       "<path class=\"bond-12\" d=\"M 186.609,100.004 L 173.218,76.8107\" style=\"fill:none;fill-rule:evenodd;stroke:#000000;stroke-width:2px;stroke-linecap:butt;stroke-linejoin:miter;stroke-opacity:1\"/>\n",
       "<path class=\"bond-12\" d=\"M 179.962,99.2034 L 170.588,82.9679\" style=\"fill:none;fill-rule:evenodd;stroke:#000000;stroke-width:2px;stroke-linecap:butt;stroke-linejoin:miter;stroke-opacity:1;stroke-dasharray:6,6\"/>\n",
       "<path class=\"bond-25\" d=\"M 186.609,100.004 L 173.218,123.198\" style=\"fill:none;fill-rule:evenodd;stroke:#000000;stroke-width:2px;stroke-linecap:butt;stroke-linejoin:miter;stroke-opacity:1\"/>\n",
       "<path class=\"bond-25\" d=\"M 179.962,100.805 L 170.588,117.041\" style=\"fill:none;fill-rule:evenodd;stroke:#000000;stroke-width:2px;stroke-linecap:butt;stroke-linejoin:miter;stroke-opacity:1;stroke-dasharray:6,6\"/>\n",
       "<path class=\"bond-13\" d=\"M 173.218,76.8107 L 146.437,76.8107\" style=\"fill:none;fill-rule:evenodd;stroke:#000000;stroke-width:2px;stroke-linecap:butt;stroke-linejoin:miter;stroke-opacity:1\"/>\n",
       "<path class=\"bond-13\" d=\"M 169.201,82.1671 L 150.454,82.1671\" style=\"fill:none;fill-rule:evenodd;stroke:#000000;stroke-width:2px;stroke-linecap:butt;stroke-linejoin:miter;stroke-opacity:1;stroke-dasharray:6,6\"/>\n",
       "<path class=\"bond-36\" d=\"M 173.218,76.8107 L 184.032,58.0808\" style=\"fill:none;fill-rule:evenodd;stroke:#000000;stroke-width:2px;stroke-linecap:butt;stroke-linejoin:miter;stroke-opacity:1\"/>\n",
       "<path class=\"bond-14\" d=\"M 146.437,76.8107 L 133.046,100.004\" style=\"fill:none;fill-rule:evenodd;stroke:#000000;stroke-width:2px;stroke-linecap:butt;stroke-linejoin:miter;stroke-opacity:1\"/>\n",
       "<path class=\"bond-14\" d=\"M 149.067,82.9679 L 139.693,99.2034\" style=\"fill:none;fill-rule:evenodd;stroke:#000000;stroke-width:2px;stroke-linecap:butt;stroke-linejoin:miter;stroke-opacity:1;stroke-dasharray:6,6\"/>\n",
       "<path class=\"bond-37\" d=\"M 146.437,76.8107 L 135.623,58.0808\" style=\"fill:none;fill-rule:evenodd;stroke:#000000;stroke-width:2px;stroke-linecap:butt;stroke-linejoin:miter;stroke-opacity:1\"/>\n",
       "<path class=\"bond-15\" d=\"M 133.046,100.004 L 146.437,123.198\" style=\"fill:none;fill-rule:evenodd;stroke:#000000;stroke-width:2px;stroke-linecap:butt;stroke-linejoin:miter;stroke-opacity:1\"/>\n",
       "<path class=\"bond-15\" d=\"M 139.693,100.805 L 149.067,117.041\" style=\"fill:none;fill-rule:evenodd;stroke:#000000;stroke-width:2px;stroke-linecap:butt;stroke-linejoin:miter;stroke-opacity:1;stroke-dasharray:6,6\"/>\n",
       "<path class=\"bond-17\" d=\"M 133.046,100.004 L 106.264,100.004\" style=\"fill:none;fill-rule:evenodd;stroke:#000000;stroke-width:2px;stroke-linecap:butt;stroke-linejoin:miter;stroke-opacity:1\"/>\n",
       "<path class=\"bond-16\" d=\"M 146.437,123.198 L 173.218,123.198\" style=\"fill:none;fill-rule:evenodd;stroke:#000000;stroke-width:2px;stroke-linecap:butt;stroke-linejoin:miter;stroke-opacity:1\"/>\n",
       "<path class=\"bond-16\" d=\"M 150.454,117.842 L 169.201,117.842\" style=\"fill:none;fill-rule:evenodd;stroke:#000000;stroke-width:2px;stroke-linecap:butt;stroke-linejoin:miter;stroke-opacity:1;stroke-dasharray:6,6\"/>\n",
       "<path class=\"bond-38\" d=\"M 146.437,123.198 L 135.623,141.928\" style=\"fill:none;fill-rule:evenodd;stroke:#000000;stroke-width:2px;stroke-linecap:butt;stroke-linejoin:miter;stroke-opacity:1\"/>\n",
       "<path class=\"bond-39\" d=\"M 173.218,123.198 L 184.032,141.928\" style=\"fill:none;fill-rule:evenodd;stroke:#000000;stroke-width:2px;stroke-linecap:butt;stroke-linejoin:miter;stroke-opacity:1\"/>\n",
       "<path class=\"bond-18\" d=\"M 106.264,100.004 L 92.8735,76.8107\" style=\"fill:none;fill-rule:evenodd;stroke:#000000;stroke-width:2px;stroke-linecap:butt;stroke-linejoin:miter;stroke-opacity:1\"/>\n",
       "<path class=\"bond-18\" d=\"M 99.617,99.2034 L 90.2434,82.9679\" style=\"fill:none;fill-rule:evenodd;stroke:#000000;stroke-width:2px;stroke-linecap:butt;stroke-linejoin:miter;stroke-opacity:1;stroke-dasharray:6,6\"/>\n",
       "<path class=\"bond-26\" d=\"M 106.264,100.004 L 92.8735,123.198\" style=\"fill:none;fill-rule:evenodd;stroke:#000000;stroke-width:2px;stroke-linecap:butt;stroke-linejoin:miter;stroke-opacity:1\"/>\n",
       "<path class=\"bond-26\" d=\"M 99.617,100.805 L 90.2434,117.041\" style=\"fill:none;fill-rule:evenodd;stroke:#000000;stroke-width:2px;stroke-linecap:butt;stroke-linejoin:miter;stroke-opacity:1;stroke-dasharray:6,6\"/>\n",
       "<path class=\"bond-19\" d=\"M 92.8735,76.8107 L 66.0919,76.8107\" style=\"fill:none;fill-rule:evenodd;stroke:#000000;stroke-width:2px;stroke-linecap:butt;stroke-linejoin:miter;stroke-opacity:1\"/>\n",
       "<path class=\"bond-19\" d=\"M 88.8563,82.1671 L 70.1091,82.1671\" style=\"fill:none;fill-rule:evenodd;stroke:#000000;stroke-width:2px;stroke-linecap:butt;stroke-linejoin:miter;stroke-opacity:1;stroke-dasharray:6,6\"/>\n",
       "<path class=\"bond-40\" d=\"M 92.8735,76.8107 L 103.687,58.0808\" style=\"fill:none;fill-rule:evenodd;stroke:#000000;stroke-width:2px;stroke-linecap:butt;stroke-linejoin:miter;stroke-opacity:1\"/>\n",
       "<path class=\"bond-20\" d=\"M 66.0919,76.8107 L 52.7011,100.004\" style=\"fill:none;fill-rule:evenodd;stroke:#000000;stroke-width:2px;stroke-linecap:butt;stroke-linejoin:miter;stroke-opacity:1\"/>\n",
       "<path class=\"bond-20\" d=\"M 68.722,82.9679 L 59.3484,99.2034\" style=\"fill:none;fill-rule:evenodd;stroke:#000000;stroke-width:2px;stroke-linecap:butt;stroke-linejoin:miter;stroke-opacity:1;stroke-dasharray:6,6\"/>\n",
       "<path class=\"bond-41\" d=\"M 66.0919,76.8107 L 55.2781,58.0808\" style=\"fill:none;fill-rule:evenodd;stroke:#000000;stroke-width:2px;stroke-linecap:butt;stroke-linejoin:miter;stroke-opacity:1\"/>\n",
       "<path class=\"bond-21\" d=\"M 52.7011,100.004 L 66.0919,123.198\" style=\"fill:none;fill-rule:evenodd;stroke:#000000;stroke-width:2px;stroke-linecap:butt;stroke-linejoin:miter;stroke-opacity:1\"/>\n",
       "<path class=\"bond-21\" d=\"M 59.3484,100.805 L 68.722,117.041\" style=\"fill:none;fill-rule:evenodd;stroke:#000000;stroke-width:2px;stroke-linecap:butt;stroke-linejoin:miter;stroke-opacity:1;stroke-dasharray:6,6\"/>\n",
       "<path class=\"bond-42\" d=\"M 52.7011,100.004 L 29.7883,100.004\" style=\"fill:none;fill-rule:evenodd;stroke:#000000;stroke-width:2px;stroke-linecap:butt;stroke-linejoin:miter;stroke-opacity:1\"/>\n",
       "<path class=\"bond-22\" d=\"M 66.0919,123.198 L 92.8735,123.198\" style=\"fill:none;fill-rule:evenodd;stroke:#000000;stroke-width:2px;stroke-linecap:butt;stroke-linejoin:miter;stroke-opacity:1\"/>\n",
       "<path class=\"bond-22\" d=\"M 70.1091,117.842 L 88.8563,117.842\" style=\"fill:none;fill-rule:evenodd;stroke:#000000;stroke-width:2px;stroke-linecap:butt;stroke-linejoin:miter;stroke-opacity:1;stroke-dasharray:6,6\"/>\n",
       "<path class=\"bond-43\" d=\"M 66.0919,123.198 L 55.2781,141.928\" style=\"fill:none;fill-rule:evenodd;stroke:#000000;stroke-width:2px;stroke-linecap:butt;stroke-linejoin:miter;stroke-opacity:1\"/>\n",
       "<path class=\"bond-44\" d=\"M 92.8735,123.198 L 103.687,141.928\" style=\"fill:none;fill-rule:evenodd;stroke:#000000;stroke-width:2px;stroke-linecap:butt;stroke-linejoin:miter;stroke-opacity:1\"/>\n",
       "<text style=\"font-size:8px;font-style:normal;font-weight:normal;fill-opacity:1;stroke:none;font-family:sans-serif;text-anchor:start;fill:#000000\" x=\"370.212\" y=\"104.468\"><tspan>H</tspan></text>\n",
       "<text style=\"font-size:8px;font-style:normal;font-weight:normal;fill-opacity:1;stroke:none;font-family:sans-serif;text-anchor:start;fill:#000000\" x=\"343.43\" y=\"150.855\"><tspan>H</tspan></text>\n",
       "<text style=\"font-size:8px;font-style:normal;font-weight:normal;fill-opacity:1;stroke:none;font-family:sans-serif;text-anchor:start;fill:#000000\" x=\"289.867\" y=\"150.855\"><tspan>H</tspan></text>\n",
       "<text style=\"font-size:8px;font-style:normal;font-weight:normal;fill-opacity:1;stroke:none;font-family:sans-serif;text-anchor:start;fill:#000000\" x=\"289.867\" y=\"58.0808\"><tspan>H</tspan></text>\n",
       "<text style=\"font-size:8px;font-style:normal;font-weight:normal;fill-opacity:1;stroke:none;font-family:sans-serif;text-anchor:start;fill:#000000\" x=\"343.43\" y=\"58.0808\"><tspan>H</tspan></text>\n",
       "<text style=\"font-size:8px;font-style:normal;font-weight:normal;fill-opacity:1;stroke:none;font-family:sans-serif;text-anchor:start;fill:#000000\" x=\"263.085\" y=\"58.0808\"><tspan>H</tspan></text>\n",
       "<text style=\"font-size:8px;font-style:normal;font-weight:normal;fill-opacity:1;stroke:none;font-family:sans-serif;text-anchor:start;fill:#000000\" x=\"209.522\" y=\"58.0808\"><tspan>H</tspan></text>\n",
       "<text style=\"font-size:8px;font-style:normal;font-weight:normal;fill-opacity:1;stroke:none;font-family:sans-serif;text-anchor:start;fill:#000000\" x=\"209.522\" y=\"150.855\"><tspan>H</tspan></text>\n",
       "<text style=\"font-size:8px;font-style:normal;font-weight:normal;fill-opacity:1;stroke:none;font-family:sans-serif;text-anchor:start;fill:#000000\" x=\"263.085\" y=\"150.855\"><tspan>H</tspan></text>\n",
       "<text style=\"font-size:8px;font-style:normal;font-weight:normal;fill-opacity:1;stroke:none;font-family:sans-serif;text-anchor:start;fill:#000000\" x=\"182.74\" y=\"58.0808\"><tspan>H</tspan></text>\n",
       "<text style=\"font-size:8px;font-style:normal;font-weight:normal;fill-opacity:1;stroke:none;font-family:sans-serif;text-anchor:start;fill:#000000\" x=\"129.177\" y=\"58.0808\"><tspan>H</tspan></text>\n",
       "<text style=\"font-size:8px;font-style:normal;font-weight:normal;fill-opacity:1;stroke:none;font-family:sans-serif;text-anchor:start;fill:#000000\" x=\"129.177\" y=\"150.855\"><tspan>H</tspan></text>\n",
       "<text style=\"font-size:8px;font-style:normal;font-weight:normal;fill-opacity:1;stroke:none;font-family:sans-serif;text-anchor:start;fill:#000000\" x=\"182.74\" y=\"150.855\"><tspan>H</tspan></text>\n",
       "<text style=\"font-size:8px;font-style:normal;font-weight:normal;fill-opacity:1;stroke:none;font-family:sans-serif;text-anchor:start;fill:#000000\" x=\"102.396\" y=\"58.0808\"><tspan>H</tspan></text>\n",
       "<text style=\"font-size:8px;font-style:normal;font-weight:normal;fill-opacity:1;stroke:none;font-family:sans-serif;text-anchor:start;fill:#000000\" x=\"48.8323\" y=\"58.0808\"><tspan>H</tspan></text>\n",
       "<text style=\"font-size:8px;font-style:normal;font-weight:normal;fill-opacity:1;stroke:none;font-family:sans-serif;text-anchor:start;fill:#000000\" x=\"22.0506\" y=\"104.468\"><tspan>H</tspan></text>\n",
       "<text style=\"font-size:8px;font-style:normal;font-weight:normal;fill-opacity:1;stroke:none;font-family:sans-serif;text-anchor:start;fill:#000000\" x=\"48.8323\" y=\"150.855\"><tspan>H</tspan></text>\n",
       "<text style=\"font-size:8px;font-style:normal;font-weight:normal;fill-opacity:1;stroke:none;font-family:sans-serif;text-anchor:start;fill:#000000\" x=\"102.396\" y=\"150.855\"><tspan>H</tspan></text>\n",
       "</svg>"
      ],
      "text/plain": [
       "<IPython.core.display.SVG object>"
      ]
     },
     "execution_count": 14,
     "metadata": {},
     "output_type": "execute_result"
    }
   ],
   "source": [
    "svg"
   ]
  },
  {
   "cell_type": "code",
   "execution_count": 15,
   "metadata": {},
   "outputs": [
    {
     "data": {
      "text/plain": [
       "array([ 2.2319455e-03, -2.6364294e-03,  3.5461556e-04,  4.2587235e-03,\n",
       "        3.1041622e-04, -1.5385859e-04,  4.4890200e-03,  2.0402893e-02,\n",
       "       -1.1598637e-03,  5.3430097e-03,  5.9298176e-04,  4.1551678e-03,\n",
       "        3.9692544e-03,  2.0567896e-02, -5.9908896e-04,  4.9456190e-03,\n",
       "       -2.7039909e-04,  4.1644913e-03,  3.0735810e-03,  2.1494005e-02,\n",
       "        3.0298062e-05,  3.9711746e-04, -2.3663405e-04,  4.9448144e-03,\n",
       "        1.7155095e-03,  1.7175557e-03,  1.7169776e-03,  1.7212764e-03,\n",
       "        1.7182500e-03,  2.2751326e-03,  2.0041061e-03,  1.7943741e-03,\n",
       "        1.7177740e-03,  2.2751109e-03,  2.0040995e-03,  1.7943738e-03,\n",
       "        1.7177742e-03,  2.2752224e-03,  2.0038125e-03,  1.3590492e-03,\n",
       "        1.7907219e-03,  1.7169776e-03], dtype=float32)"
      ]
     },
     "execution_count": 15,
     "metadata": {},
     "output_type": "execute_result"
    }
   ],
   "source": [
    "atom_importance"
   ]
  },
  {
   "cell_type": "code",
   "execution_count": 16,
   "metadata": {},
   "outputs": [
    {
     "data": {
      "text/plain": [
       "array([ 4.4139023e-03, -1.7995136e-02, -5.8794031e-03, -6.5711210e-03,\n",
       "       -7.9729594e-03,  3.1712037e-02,  2.1923919e-01,  1.2293529e-02,\n",
       "       -5.1008768e-02,  1.9622505e-04,  4.0182080e-03,  4.0485043e-02,\n",
       "        2.0993629e-01,  9.8585319e-03, -4.7655169e-02,  1.3273053e-03,\n",
       "        4.1647167e-03,  4.1899845e-02,  2.0572221e-01,  1.3791614e-02,\n",
       "       -3.7060395e-02,  4.0867005e-04,  4.0579611e-03, -8.2876170e-03,\n",
       "        1.5676258e-02,  1.5485637e-02,  1.4945758e-02,  2.2685558e-03,\n",
       "        2.2718408e-03,  2.2705405e-03,  2.2695109e-03,  2.2727044e-03,\n",
       "        1.0563318e-03,  1.8510802e-03,  2.0445888e-03,  2.2712834e-03,\n",
       "        1.0560635e-03,  1.8510593e-03,  2.0445895e-03,  2.2712804e-03,\n",
       "        1.0558466e-03,  1.8461064e-03,  1.7914203e-03,  2.0452135e-03,\n",
       "        2.2705405e-03], dtype=float32)"
      ]
     },
     "execution_count": 16,
     "metadata": {},
     "output_type": "execute_result"
    }
   ],
   "source": [
    "edge_importance"
   ]
  },
  {
   "cell_type": "code",
   "execution_count": 17,
   "metadata": {},
   "outputs": [
    {
     "data": {
      "text/plain": [
       "array([ 0.13010411,  0.01473565,  0.62599754, -0.18330163], dtype=float32)"
      ]
     },
     "execution_count": 17,
     "metadata": {},
     "output_type": "execute_result"
    }
   ],
   "source": [
    "global_importance"
   ]
  },
  {
   "cell_type": "code",
   "execution_count": null,
   "metadata": {},
   "outputs": [],
   "source": []
  }
 ],
 "metadata": {
  "kernelspec": {
   "display_name": "Python 3",
   "language": "python",
   "name": "python3"
  },
  "language_info": {
   "codemirror_mode": {
    "name": "ipython",
    "version": 3
   },
   "file_extension": ".py",
   "mimetype": "text/x-python",
   "name": "python",
   "nbconvert_exporter": "python",
   "pygments_lexer": "ipython3",
   "version": "3.7.6"
  }
 },
 "nbformat": 4,
 "nbformat_minor": 4
}
