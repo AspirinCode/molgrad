{
 "cells": [
  {
   "cell_type": "code",
   "execution_count": 1,
   "metadata": {},
   "outputs": [],
   "source": [
    "import os\n",
    "os.chdir('../..')"
   ]
  },
  {
   "cell_type": "code",
   "execution_count": 2,
   "metadata": {},
   "outputs": [
    {
     "name": "stderr",
     "output_type": "stream",
     "text": [
      "RDKit WARNING: [13:22:57] Enabling RDKit 2019.09.3 jupyter extensions\n",
      "Using backend: pytorch\n"
     ]
    }
   ],
   "source": [
    "import numpy as np\n",
    "import pandas as pd\n",
    "import torch\n",
    "\n",
    "from rdkit.Chem import MolFromSmiles, MolFromInchi, MolToInchi\n",
    "from rdkit.Chem.Draw import IPythonConsole\n",
    "from IPython.display import SVG\n",
    "\n",
    "from molexplain.utils import MODELS_PATH, PROCESSED_DATA_PATH, DEVICE\n",
    "from molexplain.vis import molecule_importance"
   ]
  },
  {
   "cell_type": "code",
   "execution_count": 3,
   "metadata": {},
   "outputs": [],
   "source": [
    "from molexplain.net import MPNNPredictor\n",
    "\n",
    "model = MPNNPredictor(node_in_feats=46,\n",
    "                      edge_in_feats=10,\n",
    "                      global_feats=4,\n",
    "                      n_tasks=1).to(DEVICE) \n",
    "model.load_state_dict(torch.load(os.path.join(MODELS_PATH,\n",
    "                                              \"CYP3A4_noHs.pt\"),\n",
    "                                 map_location=DEVICE))\n",
    "\n",
    "df = pd.read_csv('../cyp/CYP3A4.csv', header=0, sep=';')\n",
    "df = df.loc[df['Class'] == 'Active']  ## Filter inactives\n",
    "smiles = df['SMILES'].to_numpy()\n",
    "\n",
    "inchis = []\n",
    "invalid_idx = []\n",
    "\n",
    "for idx, sm in enumerate(smiles):\n",
    "    try:\n",
    "        mol = MolFromSmiles(sm)\n",
    "        inchi = MolToInchi(mol)\n",
    "        mol_back = MolFromInchi(inchi)\n",
    "        if mol_back is not None:\n",
    "            inchis.append(inchi)\n",
    "        else:\n",
    "            invalid_idx.append(idx)\n",
    "    except:\n",
    "        invalid_idx.append(idx)\n",
    "        continue\n",
    "\n",
    "\n",
    "inchis = np.array(inchis)"
   ]
  },
  {
   "cell_type": "code",
   "execution_count": 4,
   "metadata": {},
   "outputs": [
    {
     "name": "stdout",
     "output_type": "stream",
     "text": [
      "InChI=1S/C20H21F3N2O/c1-15-5-7-16(8-6-15)13-19(26)25-11-9-24(10-12-25)18-4-2-3-17(14-18)20(21,22)23/h2-8,14H,9-13H2,1H3\n"
     ]
    }
   ],
   "source": [
    "idx = 10\n",
    "example_inchi = inchis[idx]\n",
    "\n",
    "print(example_inchi)"
   ]
  },
  {
   "cell_type": "code",
   "execution_count": null,
   "metadata": {},
   "outputs": [
    {
     "name": "stderr",
     "output_type": "stream",
     "text": [
      "  4%|▍         | 163/3626 [03:12<1:13:59,  1.28s/it]"
     ]
    }
   ],
   "source": [
    "from tqdm import tqdm\n",
    "\n",
    "IMG_DIR = 'imgs_cyp_v2_noHs'\n",
    "os.makedirs(IMG_DIR, exist_ok=True)\n",
    "\n",
    "\n",
    "for idx in tqdm(range(len(inchis))):\n",
    "    mol = MolFromInchi(inchis[idx])\n",
    "    svg, _, _, _, global_importance = molecule_importance(mol,\n",
    "                                                          model,\n",
    "                                                          task=0,\n",
    "                                                          vis_factor=5,\n",
    "                                                          addHs=False)\n",
    "\n",
    "    with open(os.path.join(IMG_DIR, f'{idx}.svg'), 'w+') as handle:\n",
    "        handle.write(svg)"
   ]
  },
  {
   "cell_type": "code",
   "execution_count": null,
   "metadata": {},
   "outputs": [],
   "source": [
    "np.save('/home/jose/cyp/inchis.npy', arr=inchis)"
   ]
  }
 ],
 "metadata": {
  "kernelspec": {
   "display_name": "Python 3",
   "language": "python",
   "name": "python3"
  },
  "language_info": {
   "codemirror_mode": {
    "name": "ipython",
    "version": 3
   },
   "file_extension": ".py",
   "mimetype": "text/x-python",
   "name": "python",
   "nbconvert_exporter": "python",
   "pygments_lexer": "ipython3",
   "version": "3.7.6"
  }
 },
 "nbformat": 4,
 "nbformat_minor": 4
}
